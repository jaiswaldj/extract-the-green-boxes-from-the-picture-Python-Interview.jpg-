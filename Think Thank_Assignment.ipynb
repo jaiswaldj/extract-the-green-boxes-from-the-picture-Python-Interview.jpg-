{
 "cells": [
  {
   "cell_type": "code",
   "execution_count": 1,
   "metadata": {},
   "outputs": [],
   "source": [
    "import cv2 as cv"
   ]
  },
  {
   "cell_type": "code",
   "execution_count": 2,
   "metadata": {},
   "outputs": [
    {
     "name": "stdout",
     "output_type": "stream",
     "text": [
      "['Python-Interview.jpg']\n"
     ]
    }
   ],
   "source": [
    "import os\n",
    "print(os.listdir(\"E:\\\\Assignment\"))"
   ]
  },
  {
   "cell_type": "code",
   "execution_count": 3,
   "metadata": {},
   "outputs": [],
   "source": [
    "image = cv.imread('E:\\\\Assignment\\\\Python-Interview.jpg')"
   ]
  },
  {
   "cell_type": "code",
   "execution_count": 4,
   "metadata": {},
   "outputs": [],
   "source": [
    "gray_img = cv.cvtColor(image, cv.COLOR_BGR2GRAY)\n",
    "binary_img = cv.adaptiveThreshold(gray_img, 255, cv.ADAPTIVE_THRESH_MEAN_C, cv.THRESH_BINARY, 9 ,9)"
   ]
  },
  {
   "cell_type": "code",
   "execution_count": 5,
   "metadata": {},
   "outputs": [],
   "source": [
    "binary_img = cv.bitwise_not(binary_img)"
   ]
  },
  {
   "cell_type": "code",
   "execution_count": 6,
   "metadata": {},
   "outputs": [],
   "source": [
    "kernel = cv.getStructuringElement(cv.MORPH_RECT, (1,1))\n",
    "dilated_img = cv.morphologyEx(binary_img, cv.MORPH_DILATE, kernel,iterations=1)"
   ]
  },
  {
   "cell_type": "code",
   "execution_count": 7,
   "metadata": {},
   "outputs": [
    {
     "name": "stdout",
     "output_type": "stream",
     "text": [
      "Number of countours = 163\n"
     ]
    }
   ],
   "source": [
    "(cnts, _) = cv.findContours(dilated_img.copy(), cv.RETR_LIST, cv.CHAIN_APPROX_SIMPLE)\n",
    "print(\"Number of countours = \"+ str(len(cnts)))"
   ]
  },
  {
   "cell_type": "code",
   "execution_count": 8,
   "metadata": {},
   "outputs": [],
   "source": [
    "sq_cnts = []"
   ]
  },
  {
   "cell_type": "code",
   "execution_count": 9,
   "metadata": {},
   "outputs": [
    {
     "name": "stdout",
     "output_type": "stream",
     "text": [
      "1.0 Aspectratio\n",
      "1.0 Aspectratio\n",
      "1.0 Aspectratio\n",
      "1.0 Aspectratio\n",
      "1.0 Aspectratio\n",
      "1.0 Aspectratio\n",
      "1.0769230769230769 Aspectratio\n",
      "1.0769230769230769 Aspectratio\n",
      "1.0769230769230769 Aspectratio\n",
      "1.0769230769230769 Aspectratio\n",
      "4.0606060606060606 Aspectratio\n",
      "3.090909090909091 Aspectratio\n",
      "5.7272727272727275 Aspectratio\n",
      "1.0 Aspectratio\n",
      "1.0 Aspectratio\n",
      "1.5 Aspectratio\n",
      "1.0769230769230769 Aspectratio\n",
      "1.0769230769230769 Aspectratio\n",
      "1.0769230769230769 Aspectratio\n",
      "1.0769230769230769 Aspectratio\n",
      "3.090909090909091 Aspectratio\n",
      "5.7272727272727275 Aspectratio\n",
      "3.9411764705882355 Aspectratio\n",
      "1.0769230769230769 Aspectratio\n",
      "1.0769230769230769 Aspectratio\n",
      "1.037037037037037 Aspectratio\n",
      "1.037037037037037 Aspectratio\n",
      "3.9411764705882355 Aspectratio\n",
      "3.0 Aspectratio\n",
      "5.5588235294117645 Aspectratio\n",
      "1.0 Aspectratio\n",
      "1.0 Aspectratio\n",
      "0.6666666666666666 Aspectratio\n",
      "0.6666666666666666 Aspectratio\n",
      "3.9411764705882355 Aspectratio\n",
      "3.0 Aspectratio\n",
      "5.5588235294117645 Aspectratio\n"
     ]
    }
   ],
   "source": [
    "for cnt in cnts:\n",
    "    approx = cv.approxPolyDP(cnt, 0.01*cv.arcLength(cnt,True),True)\n",
    "    \n",
    "    if len(approx) == 4:\n",
    "        (x, y, w, h) = cv.boundingRect(cnt)\n",
    "        \n",
    "        aspectRatio = float(w)/h\n",
    "        print(aspectRatio,\"Aspectratio\")\n",
    "        \n",
    "        if aspectRatio > 1.0 and aspectRatio <= 1.08:\n",
    "            cv.drawContours(image,[cnt], 0, (0,255,0), 3)\n",
    "            sq_cnts.append(cnt)\n",
    "            \n",
    "            for i in range(len(sq_cnts)):\n",
    "                \n",
    "                (x, y, w, h) = cv.boundingRect(sq_cnts[i])\n",
    "                newimg = image[y:y+h,x:x+w]\n",
    "                \n",
    "                cv.imwrite(str(i)+'.jpg',newimg)\n",
    "                cv.imshow('img.jpg', newimg)"
   ]
  },
  {
   "cell_type": "code",
   "execution_count": null,
   "metadata": {},
   "outputs": [],
   "source": []
  }
 ],
 "metadata": {
  "kernelspec": {
   "display_name": "Python 3",
   "language": "python",
   "name": "python3"
  },
  "language_info": {
   "codemirror_mode": {
    "name": "ipython",
    "version": 3
   },
   "file_extension": ".py",
   "mimetype": "text/x-python",
   "name": "python",
   "nbconvert_exporter": "python",
   "pygments_lexer": "ipython3",
   "version": "3.7.3"
  }
 },
 "nbformat": 4,
 "nbformat_minor": 4
}
